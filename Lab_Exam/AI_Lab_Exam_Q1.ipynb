{
  "nbformat": 4,
  "nbformat_minor": 0,
  "metadata": {
    "colab": {
      "provenance": [],
      "include_colab_link": true
    },
    "kernelspec": {
      "name": "python3",
      "display_name": "Python 3"
    },
    "language_info": {
      "name": "python"
    }
  },
  "cells": [
    {
      "cell_type": "markdown",
      "metadata": {
        "id": "view-in-github",
        "colab_type": "text"
      },
      "source": [
        "<a href=\"https://colab.research.google.com/github/SahilKumarRai/CS302-AI/blob/main/Lab_Exam/AI_Lab_Exam_Q1.ipynb\" target=\"_parent\"><img src=\"https://colab.research.google.com/assets/colab-badge.svg\" alt=\"Open In Colab\"/></a>"
      ]
    },
    {
      "cell_type": "code",
      "execution_count": null,
      "metadata": {
        "colab": {
          "base_uri": "https://localhost:8080/"
        },
        "id": "NeZk-e0dvnqV",
        "outputId": "98fb4112-f04f-43c9-b476-6975dfe0a271"
      },
      "outputs": [
        {
          "output_type": "stream",
          "name": "stdout",
          "text": [
            "Total Iterations:  65161\n",
            "VALUE FUNCTION:\n",
            "{0: 9448.656249716234, 1: 10350.42520675119, 2: 12579.385102588018, 3: 18063.215071276805, 4: 26714.40785555772, 5: 51338.70086782595, 6: 75548.50317725152, 7: 169513.21150708655, 8: 211533.74413229714, 9: 164087.90703841776}\n",
            "TIMES ENTERED:\n",
            "{0: 100.0, 1: 99.00400546339068, 2: 89.14841699789751, 3: 71.19903009468854, 4: 49.74447905956016, 5: 29.783152499194305, 6: 14.666748515216158, 7: 6.063442856923619, 8: 1.7756019705038288, 9: 0.38673439634136986}\n",
            "EXPECTED REWARD:  98099.80238928244\n"
          ]
        }
      ],
      "source": [
        "import numpy as np\n",
        "import matplotlib.pyplot as plt\n",
        "\n",
        "class NODE:\n",
        "    def __init__(self, reward, correctProbability):\n",
        "        self.REWARD = reward\n",
        "        self.PROBABILITY = correctProbability\n",
        "        self.next = None\n",
        "\n",
        "class AGENT:\n",
        "    def __init__(self):\n",
        "        self.N = 10\n",
        "        self.THETA = 0.0001\n",
        "        self.DISCOUNT_FACTOR = 0.9\n",
        "        self.ACTIONS = [\"CONTINUE\", \"QUIT\"]\n",
        "        \n",
        "        REWARDS = [100, 500, 1000, 5000, 10000, 50000, 100000, 500000, 1000000, 5000000]\n",
        "        CORRECT_ANSWER_PROBABILITY = [0.99, 0.9, 0.8, 0.7, 0.6, 0.5, 0.4, 0.3, 0.2, 0.1]\n",
        "        \n",
        "        START_NODE = NODE(-1,0)\n",
        "        TEMP = START_NODE\n",
        "        \n",
        "        for i in range(self.N):  \n",
        "            TEMP.next = NODE(REWARDS[i],CORRECT_ANSWER_PROBABILITY[i])\n",
        "            TEMP = TEMP.next\n",
        "        \n",
        "        self.START_STATE = START_NODE.next        \n",
        "\n",
        "\n",
        "class MDP_SOLUTION:\n",
        "    def __init__(self):\n",
        "        self.agent = AGENT()\n",
        "        self.VALUE_FUNCTION = {s: 0 for s in range(self.agent.N)}\n",
        "        self.ITERATIONS = 0\n",
        "        self.TIMES_ENTERED = {s: 0 for s in range(self.agent.N)}\n",
        "        self.TERMINATOR = False\n",
        "        self.PLOT_STATES = [x for x in range(self.agent.N)]\n",
        "    \n",
        "    def helper(self, state, iteration):\n",
        "        if(state == None): return 0\n",
        "        self.TIMES_ENTERED[iteration] += 1\n",
        "    \n",
        "        OLD_VALUE = self.VALUE_FUNCTION[iteration]\n",
        "        REWARD_ACHIEVED = 0\n",
        "        if iteration == 0:\n",
        "            QUIT_REWARD = 0\n",
        "        else:\n",
        "            QUIT_REWARD = self.VALUE_FUNCTION[iteration-1]\n",
        "        \n",
        "        ANSWER = np.random.rand()\n",
        "        \n",
        "        if ANSWER <= state.PROBABILITY:\n",
        "            REWARD_ACHIEVED = state.PROBABILITY * (state.REWARD + (self.agent.DISCOUNT_FACTOR * self.helper(state.next, iteration+1)))\n",
        "            self.VALUE_FUNCTION[iteration] = (self.VALUE_FUNCTION[iteration] * self.TIMES_ENTERED[iteration] + REWARD_ACHIEVED)/(self.TIMES_ENTERED[iteration]+1)\n",
        "            \n",
        "            if(abs(self.VALUE_FUNCTION[iteration] - OLD_VALUE) < self.agent.THETA):\n",
        "                self.TERMINATOR = True\n",
        "\n",
        "        return max(QUIT_REWARD, REWARD_ACHIEVED)\n",
        "    \n",
        "    def solver(self):\n",
        "        while self.TERMINATOR == False:\n",
        "            self.ITERATIONS += 1\n",
        "            HEAD = self.agent.START_STATE\n",
        "            self.helper(HEAD, 0)\n",
        "        \n",
        "        print(\"Total Iterations: \", self.ITERATIONS)\n",
        "        print(\"VALUE FUNCTION:\")\n",
        "        print(self.VALUE_FUNCTION)\n",
        "        \n",
        "        for i in range(self.agent.N):\n",
        "            self.TIMES_ENTERED[i] = (self.TIMES_ENTERED[i] / self.ITERATIONS) * 100\n",
        "        \n",
        "        print(\"TIMES ENTERED:\")\n",
        "        print(self.TIMES_ENTERED)\n",
        "        \n",
        "        EXPECTATION = 0\n",
        "        for i in range(self.agent.N):\n",
        "            EXPECTATION = EXPECTATION + ((self.TIMES_ENTERED[i]/100) * self.VALUE_FUNCTION[i])\n",
        "        \n",
        "        print(\"EXPECTED REWARD: \", EXPECTATION)\n",
        "        \n",
        "\n",
        "MDP_SOLUTION().solver()"
      ]
    }
  ]
}